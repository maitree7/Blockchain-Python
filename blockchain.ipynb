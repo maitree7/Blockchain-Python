{
 "cells": [
  {
   "cell_type": "code",
   "execution_count": 1,
   "metadata": {},
   "outputs": [
    {
     "name": "stdout",
     "output_type": "stream",
     "text": [
      "{'Child_0': {'address': '16TbGXrr2gjCAkSnxb1dseACLUEgb1FUYQ',\n",
      "             'bip32_extended_private_key': 'xprvA3xaAvWDJc2B8mPFyEMzQotCRDLah4vn7T5toQ7LiFSEAjqjvUt3gQ5ztaDcrNfeXuSoRjdfQufghFgjHJWtXxDbpQZqFWrRWhyjHfM3SsU',\n",
      "             'bip32_root_key': 'xprv9s21ZrQH143K4QYv722gd8FnEdg8RFbzPB2zDLKVFGz3AngTCE3fu3Ydf8e2vEUkarR6Cq6ZNvHcLjmXctuxih1HdPSnvxjsfebvYzYNFv5',\n",
      "             'coin': 'BTC',\n",
      "             'mnemonic_words': 'cannon chronic machine excess hope blanket '\n",
      "                               'giraffe cancel behave hello absurd input',\n",
      "             'path': \"m/44'/0'/0'/0\",\n",
      "             'privatekey': 'KyM3bVtH4Kg1Q4CitFNJSf4rvtqhdZAkyTuALBjyZaioZw3t9W7g',\n",
      "             'publickey': '038d285ea71e7c2dd48b0d93bca5db5b40cc05eede41afe894c5e29415fb6d6fc6'},\n",
      " 'Child_1': {'address': '1LNvZPxNiW3xymMg8mMzVbiEaRCN68KvB5',\n",
      "             'bip32_extended_private_key': 'xprvA3xaAvWDJc2BAgXZC947voTrRGp6gVtEt7KXEVqWs7XGsAeSugMjKp4PHmMn2PSe4Boc1mRFnvRyHWcunjt7E86Pa4FG8hHpVfqG3M38zfD',\n",
      "             'bip32_root_key': 'xprv9s21ZrQH143K4QYv722gd8FnEdg8RFbzPB2zDLKVFGz3AngTCE3fu3Ydf8e2vEUkarR6Cq6ZNvHcLjmXctuxih1HdPSnvxjsfebvYzYNFv5',\n",
      "             'coin': 'BTC',\n",
      "             'mnemonic_words': 'cannon chronic machine excess hope blanket '\n",
      "                               'giraffe cancel behave hello absurd input',\n",
      "             'path': \"m/44'/0'/0'/1\",\n",
      "             'privatekey': 'KyN3SXH8dHgqTSu1UJ2uLVBCkTG63JBSE5XoN7GozsYR4vYTv94i',\n",
      "             'publickey': '0235eca9c4d08c9fc3424b753e8be6822f12746d3d680723a5ba078c47e0a99901'},\n",
      " 'Child_2': {'address': '1KY6VYJDZhSTFysai12WqAtEr1mdmMZACg',\n",
      "             'bip32_extended_private_key': 'xprvA3xaAvWDJc2BE68wnGJoue99DjvZ9uNfr4mqftsUpFdBLenPWwZjx1M7gpn37jRPLSSRxQJzMFdbhdN8FF6R1wR6JLfJCcBC9hjtqkS5tb9',\n",
      "             'bip32_root_key': 'xprv9s21ZrQH143K4QYv722gd8FnEdg8RFbzPB2zDLKVFGz3AngTCE3fu3Ydf8e2vEUkarR6Cq6ZNvHcLjmXctuxih1HdPSnvxjsfebvYzYNFv5',\n",
      "             'coin': 'BTC',\n",
      "             'mnemonic_words': 'cannon chronic machine excess hope blanket '\n",
      "                               'giraffe cancel behave hello absurd input',\n",
      "             'path': \"m/44'/0'/0'/2\",\n",
      "             'privatekey': 'L2FnjNzAZAm9zfULwvZPuHDU4NjkGiSeF2Qn6ZPNQa7Ae5e3YogZ',\n",
      "             'publickey': '025e4b66228a2a24fa13c64bc2aa282382cb1fd6214af2e35a833c3e159dd47ff5'}}\n"
     ]
    }
   ],
   "source": [
    "import pprint\n",
    "import binascii\n",
    "import mnemonic\n",
    "import bip32utils\n",
    "\n",
    "def bip39(mnemonic_words, children):\n",
    "    # mnemonic_words: 12 word mnemonic.\n",
    "    #children: positive integer for num of address desired.    FUTURE IMPLEMENT...\n",
    "    # choose coin\n",
    "    #- return main account information\n",
    "    #'''    \n",
    "    mobj = mnemonic.Mnemonic(\"english\")\n",
    "    seed = mobj.to_seed(mnemonic_words)    \n",
    "    holder = {}    \n",
    "    if children < 0:\n",
    "        raise ValueError('Children must be positive.')    \n",
    "    for child in range(children):        \n",
    "        bip32_root_key_obj = bip32utils.BIP32Key.fromEntropy(seed)\n",
    "        bip32_child_key_obj = bip32_root_key_obj.ChildKey(\n",
    "            44 + bip32utils.BIP32_HARDEN\n",
    "                ).ChildKey(\n",
    "                0 + bip32utils.BIP32_HARDEN\n",
    "                ).ChildKey(\n",
    "            0 + bip32utils.BIP32_HARDEN\n",
    "            ).ChildKey(0).ChildKey(child)        \n",
    "        template = {\n",
    "        'mnemonic_words': mnemonic_words,\n",
    "        'bip32_root_key': bip32_root_key_obj.ExtendedKey(),\n",
    "        'bip32_extended_private_key': bip32_child_key_obj.ExtendedKey(),\n",
    "        'path': f\"m/44'/0'/0'/{child}\",\n",
    "        'address': bip32_child_key_obj.Address(),\n",
    "        'publickey': binascii.hexlify(bip32_child_key_obj.PublicKey()).decode(),\n",
    "        'privatekey': bip32_child_key_obj.WalletImportFormat(),\n",
    "        'coin': 'BTC'\n",
    "        }        \n",
    "        holder[f'Child_{child}'] = template\n",
    "    return holder\n",
    "\n",
    "mnemonic_words = \"cannon chronic machine excess hope blanket giraffe cancel behave hello absurd input\"\n",
    "children = 3\n",
    "pprint.pprint(bip39(mnemonic_words, children))"
   ]
  },
  {
   "cell_type": "code",
   "execution_count": null,
   "metadata": {},
   "outputs": [],
   "source": []
  }
 ],
 "metadata": {
  "kernelspec": {
   "display_name": "Python 3",
   "language": "python",
   "name": "python3"
  },
  "language_info": {
   "codemirror_mode": {
    "name": "ipython",
    "version": 3
   },
   "file_extension": ".py",
   "mimetype": "text/x-python",
   "name": "python",
   "nbconvert_exporter": "python",
   "pygments_lexer": "ipython3",
   "version": "3.7.7"
  }
 },
 "nbformat": 4,
 "nbformat_minor": 4
}

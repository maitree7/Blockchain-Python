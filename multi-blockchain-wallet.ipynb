{
 "cells": [
  {
   "cell_type": "code",
   "execution_count": 1,
   "metadata": {},
   "outputs": [
    {
     "data": {
      "text/plain": [
       "True"
      ]
     },
     "execution_count": 1,
     "metadata": {},
     "output_type": "execute_result"
    }
   ],
   "source": [
    "# import libraries\n",
    "import subprocess\n",
    "import json\n",
    "import os\n",
    "from constants import *\n",
    "from dotenv import load_dotenv\n",
    "from bipwallet import wallet\n",
    "from web3 import Web3\n",
    "from eth_account import Account\n",
    "from bit import PrivateKeyTestnet\n",
    "from bit.network import NetworkAPI\n",
    "from web3.middleware import geth_poa_middleware\n",
    "from web3.gas_strategies.time_based import medium_gas_price_strategy\n",
    "\n",
    "load_dotenv()"
   ]
  },
  {
   "cell_type": "code",
   "execution_count": 2,
   "metadata": {},
   "outputs": [
    {
     "name": "stdout",
     "output_type": "stream",
     "text": [
      "1\n",
      "cannon chronic machine excess hope blanket giraffe cancel behave hello absurd input\n"
     ]
    }
   ],
   "source": [
    "# import mnemonic from env\n",
    "filepath=\"env.bat\"\n",
    "p = subprocess.Popen(filepath, shell=True, stdout = subprocess.PIPE)\n",
    "\n",
    "stdout, stderr = p.communicate()\n",
    "print (p.returncode) # is 0 if success\n",
    "mnemonic = os.getenv('MNEMONIC')\n",
    "print(mnemonic)"
   ]
  },
  {
   "cell_type": "code",
   "execution_count": 3,
   "metadata": {},
   "outputs": [],
   "source": [
    "# connect to local ETH/ geth\n",
    "w3 = Web3(Web3.HTTPProvider('http://127.0.0.1:8545'))\n",
    "w3.middleware_onion.inject(geth_poa_middleware, layer=0)\n",
    "w3.eth.setGasPriceStrategy(medium_gas_price_strategy)"
   ]
  },
  {
   "cell_type": "code",
   "execution_count": 4,
   "metadata": {},
   "outputs": [],
   "source": [
    "# Define function to derive wallet\n",
    "def derive_wallets(mnemonic, coin, numderive):\n",
    "    \"\"\"Use the subprocess library to call the php file script from Python\"\"\"\n",
    "    command = f'php ./hd-wallet-derive/hd-wallet-derive.php -g --mnemonic=\"{mnemonic}\" --numderive=\"{numderive}\" --coin=\"{coin}\" --format=json' \n",
    "    \n",
    "    p = subprocess.Popen(command, stdout=subprocess.PIPE, shell=True)\n",
    "    (output, err) = p.communicate()\n",
    "   \n",
    "    keys = json.loads(output)\n",
    "    return  keys"
   ]
  },
  {
   "cell_type": "code",
   "execution_count": 5,
   "metadata": {},
   "outputs": [
    {
     "data": {
      "text/plain": [
       "[{'path': \"m/44'/0'/0'/0/0\",\n",
       "  'address': '16TbGXrr2gjCAkSnxb1dseACLUEgb1FUYQ',\n",
       "  'xprv': 'xprvA3xaAvWDJc2B8mPFyEMzQotCRDLah4vn7T5toQ7LiFSEAjqjvUt3gQ5ztaDcrNfeXuSoRjdfQufghFgjHJWtXxDbpQZqFWrRWhyjHfM3SsU',\n",
       "  'xpub': 'xpub6GwvaS378yaUMFTj5FtzmwpvyFB56XedUg1VbnWxGayD3YAtU2CJECQUjsnMTcgfmy7GmSxhU3rRUp3cmMkzdx9dmjkeVHphVrhLqTSp1iq',\n",
       "  'privkey': 'KyM3bVtH4Kg1Q4CitFNJSf4rvtqhdZAkyTuALBjyZaioZw3t9W7g',\n",
       "  'pubkey': '038d285ea71e7c2dd48b0d93bca5db5b40cc05eede41afe894c5e29415fb6d6fc6',\n",
       "  'pubkeyhash': '3be00c9af3c214fcf0acf871a59733ca8bd9b636',\n",
       "  'index': 0},\n",
       " {'path': \"m/44'/0'/0'/0/1\",\n",
       "  'address': '1LNvZPxNiW3xymMg8mMzVbiEaRCN68KvB5',\n",
       "  'xprv': 'xprvA3xaAvWDJc2BAgXZC947voTrRGp6gVtEt7KXEVqWs7XGsAeSugMjKp4PHmMn2PSe4Boc1mRFnvRyHWcunjt7E86Pa4FG8hHpVfqG3M38zfD',\n",
       "  'xpub': 'xpub6GwvaS378yaUPAc2JAb8HwQayJeb5xc6FLF82tF8RT4FjxybTDfyscNs92K86SZ2nNKZPFQcbC7uQ864SurCaMWbix17C7MHRcxKCaqK1v5',\n",
       "  'privkey': 'KyN3SXH8dHgqTSu1UJ2uLVBCkTG63JBSE5XoN7GozsYR4vYTv94i',\n",
       "  'pubkey': '0235eca9c4d08c9fc3424b753e8be6822f12746d3d680723a5ba078c47e0a99901',\n",
       "  'pubkeyhash': 'd48fd561249fd17d601468876b41071276b6cb08',\n",
       "  'index': 1},\n",
       " {'path': \"m/44'/0'/0'/0/2\",\n",
       "  'address': '1KY6VYJDZhSTFysai12WqAtEr1mdmMZACg',\n",
       "  'xprv': 'xprvA3xaAvWDJc2BE68wnGJoue99DjvZ9uNfr4mqftsUpFdBLenPWwZjx1M7gpn37jRPLSSRxQJzMFdbhdN8FF6R1wR6JLfJCcBC9hjtqkS5tb9',\n",
       "  'xpub': 'xpub6GwvaS378yaUSaDQtHqpGn5smmm3ZN6XDHhSUHH6NbAADT7Y4UszVofbY5PA6NT3raGFsxs448Jn37jcUKhPPxg6SgJH5EjBCMPPhmGxBZv',\n",
       "  'privkey': 'L2FnjNzAZAm9zfULwvZPuHDU4NjkGiSeF2Qn6ZPNQa7Ae5e3YogZ',\n",
       "  'pubkey': '025e4b66228a2a24fa13c64bc2aa282382cb1fd6214af2e35a833c3e159dd47ff5',\n",
       "  'pubkeyhash': 'cb53be53c9e4629ccead0fba9a1ee0b87a5cf883',\n",
       "  'index': 2}]"
      ]
     },
     "execution_count": 5,
     "metadata": {},
     "output_type": "execute_result"
    }
   ],
   "source": [
    "# Test the function derive_wallets\n",
    "derive_wallets(mnemonic, 'BTC', 3)"
   ]
  },
  {
   "cell_type": "code",
   "execution_count": 6,
   "metadata": {},
   "outputs": [],
   "source": [
    "#Setting dictionary of coins to be used in the wallet\n",
    "coins = {\"eth\", \"btc-test\", \"btc\"}\n",
    "numderive = 3"
   ]
  },
  {
   "cell_type": "code",
   "execution_count": 7,
   "metadata": {},
   "outputs": [],
   "source": [
    "# \n",
    "keys = {}\n",
    "for coin in coins:\n",
    "    keys[coin]= derive_wallets(mnemonic, coin, numderive=3)"
   ]
  },
  {
   "cell_type": "code",
   "execution_count": 8,
   "metadata": {},
   "outputs": [
    {
     "name": "stdout",
     "output_type": "stream",
     "text": [
      "\"0x30c2577db89760baa9ba4058b1033b9e103f287e5de1689e35833ee8e7a7c857\"\n",
      "\"cNYVznjLVmB5XANVr4SJ6choENNntn1t96jPQbn51rGUjTrpsnV7\"\n"
     ]
    }
   ],
   "source": [
    "\n",
    "eth_PrivateKey = keys[\"eth\"][0]['privkey']\n",
    "btc_PrivateKey = keys['btc-test'][0]['privkey']\n",
    "\n",
    "print(json.dumps(eth_PrivateKey, indent=4, sort_keys=True))\n",
    "print(json.dumps(btc_PrivateKey, indent=4, sort_keys=True))"
   ]
  },
  {
   "cell_type": "code",
   "execution_count": 9,
   "metadata": {},
   "outputs": [
    {
     "name": "stdout",
     "output_type": "stream",
     "text": [
      "{\n",
      "    \"btc\": [\n",
      "        {\n",
      "            \"address\": \"16TbGXrr2gjCAkSnxb1dseACLUEgb1FUYQ\",\n",
      "            \"index\": 0,\n",
      "            \"path\": \"m/44'/0'/0'/0/0\",\n",
      "            \"privkey\": \"KyM3bVtH4Kg1Q4CitFNJSf4rvtqhdZAkyTuALBjyZaioZw3t9W7g\",\n",
      "            \"pubkey\": \"038d285ea71e7c2dd48b0d93bca5db5b40cc05eede41afe894c5e29415fb6d6fc6\",\n",
      "            \"pubkeyhash\": \"3be00c9af3c214fcf0acf871a59733ca8bd9b636\",\n",
      "            \"xprv\": \"xprvA3xaAvWDJc2B8mPFyEMzQotCRDLah4vn7T5toQ7LiFSEAjqjvUt3gQ5ztaDcrNfeXuSoRjdfQufghFgjHJWtXxDbpQZqFWrRWhyjHfM3SsU\",\n",
      "            \"xpub\": \"xpub6GwvaS378yaUMFTj5FtzmwpvyFB56XedUg1VbnWxGayD3YAtU2CJECQUjsnMTcgfmy7GmSxhU3rRUp3cmMkzdx9dmjkeVHphVrhLqTSp1iq\"\n",
      "        },\n",
      "        {\n",
      "            \"address\": \"1LNvZPxNiW3xymMg8mMzVbiEaRCN68KvB5\",\n",
      "            \"index\": 1,\n",
      "            \"path\": \"m/44'/0'/0'/0/1\",\n",
      "            \"privkey\": \"KyN3SXH8dHgqTSu1UJ2uLVBCkTG63JBSE5XoN7GozsYR4vYTv94i\",\n",
      "            \"pubkey\": \"0235eca9c4d08c9fc3424b753e8be6822f12746d3d680723a5ba078c47e0a99901\",\n",
      "            \"pubkeyhash\": \"d48fd561249fd17d601468876b41071276b6cb08\",\n",
      "            \"xprv\": \"xprvA3xaAvWDJc2BAgXZC947voTrRGp6gVtEt7KXEVqWs7XGsAeSugMjKp4PHmMn2PSe4Boc1mRFnvRyHWcunjt7E86Pa4FG8hHpVfqG3M38zfD\",\n",
      "            \"xpub\": \"xpub6GwvaS378yaUPAc2JAb8HwQayJeb5xc6FLF82tF8RT4FjxybTDfyscNs92K86SZ2nNKZPFQcbC7uQ864SurCaMWbix17C7MHRcxKCaqK1v5\"\n",
      "        },\n",
      "        {\n",
      "            \"address\": \"1KY6VYJDZhSTFysai12WqAtEr1mdmMZACg\",\n",
      "            \"index\": 2,\n",
      "            \"path\": \"m/44'/0'/0'/0/2\",\n",
      "            \"privkey\": \"L2FnjNzAZAm9zfULwvZPuHDU4NjkGiSeF2Qn6ZPNQa7Ae5e3YogZ\",\n",
      "            \"pubkey\": \"025e4b66228a2a24fa13c64bc2aa282382cb1fd6214af2e35a833c3e159dd47ff5\",\n",
      "            \"pubkeyhash\": \"cb53be53c9e4629ccead0fba9a1ee0b87a5cf883\",\n",
      "            \"xprv\": \"xprvA3xaAvWDJc2BE68wnGJoue99DjvZ9uNfr4mqftsUpFdBLenPWwZjx1M7gpn37jRPLSSRxQJzMFdbhdN8FF6R1wR6JLfJCcBC9hjtqkS5tb9\",\n",
      "            \"xpub\": \"xpub6GwvaS378yaUSaDQtHqpGn5smmm3ZN6XDHhSUHH6NbAADT7Y4UszVofbY5PA6NT3raGFsxs448Jn37jcUKhPPxg6SgJH5EjBCMPPhmGxBZv\"\n",
      "        }\n",
      "    ],\n",
      "    \"btc-test\": [\n",
      "        {\n",
      "            \"address\": \"n3D8vVvLyD7pPQmWoQgMMERZrDjmBheBpU\",\n",
      "            \"index\": 0,\n",
      "            \"path\": \"m/44'/1'/0'/0/0\",\n",
      "            \"privkey\": \"cNYVznjLVmB5XANVr4SJ6choENNntn1t96jPQbn51rGUjTrpsnV7\",\n",
      "            \"pubkey\": \"02885d0c850aa602ad69702dd2c8e1b4d1f1f11cb869922e6c7139aa3286fdb66d\",\n",
      "            \"pubkeyhash\": \"edf426ec881075b8ad83bd43951d86ab79007d39\",\n",
      "            \"xprv\": \"tprv8j97xQsAYcxmzystrADVABMGg2cvJwia85JkveUTGRjQsPrmCp8ktwQachQM3c9imyoUxDkX8py3NvPRcHjsBLhgB3LcyHAWHcuFvNSD6cg\",\n",
      "            \"xpub\": \"tpubDFqA6puQgzeStSugjot5Zb1PF48rUGuUhNuYDAWkghXoht7XqCxM5S2SnqAezbsktedVmX778heMgL515HiZGcABXRDmHKUyouPjE7SJ1vJ\"\n",
      "        },\n",
      "        {\n",
      "            \"address\": \"mtK73sNPY9CKuzVvpv4W1969AD1UmGGfsX\",\n",
      "            \"index\": 1,\n",
      "            \"path\": \"m/44'/1'/0'/0/1\",\n",
      "            \"privkey\": \"cRk21cnKYEKGTT3R4odZ37aunKBwtPDJFDNXRdfw6Ss8FM9ywUGj\",\n",
      "            \"pubkey\": \"02e9e67c59c2cc3872cca7c56f384d998a657099f5a720e47ffa7c10f871495470\",\n",
      "            \"pubkeyhash\": \"8c5bf3cb05705fe9512d23b229c4253e82ba8179\",\n",
      "            \"xprv\": \"tprv8j97xQsAYcxn3fsCYCdXdumm5QGkmfu9LRfERReyMzUP7cbPXub1rPN22oZkSpXkHmXf8k3zYjTHxNCiK3wj4ppEkAKAzVvWNAnQFj7t9Ej\",\n",
      "            \"xpub\": \"tpubDFqA6puQgzeSw8tzRrJ83KRseRngw163ujG1hwhGnGGmx6rAAJQc2sytCwLz2W2Tdwxs7qmEQJMzjcS3tTiRPkWzc95rhkc8LByF4QGQ7uF\"\n",
      "        },\n",
      "        {\n",
      "            \"address\": \"mgaY381y4Job1txGMjdaMDBMkwFcDC2Sse\",\n",
      "            \"index\": 2,\n",
      "            \"path\": \"m/44'/1'/0'/0/2\",\n",
      "            \"privkey\": \"cRd4UWYEMCi8TBZewxjL14fnFnAx1cWyyc7dsH9o4jW2L5SrCEsQ\",\n",
      "            \"pubkey\": \"0262de067c40fb57821c530d28fee30044803a9508446ad5e4b3efb4067ba8d334\",\n",
      "            \"pubkeyhash\": \"0ba58a60257e38e92e0d4d4fcc28cb5e50aa4453\",\n",
      "            \"xprv\": \"tprv8j97xQsAYcxn4UQiTRc3SYEMJf9NG6jPePSfySbMx1KXa6xXX1V46HmE3d4JySQgKFehNFe2wC9hFfnzEZbewp2GMWXgYLB1mPupy4D4pBC\",\n",
      "            \"xpub\": \"tpubDFqA6puQgzeSwwSWM5GdqwtTsgfJRRvJDh3TFxdfNH7vQbDJ9QJeGnP6Djqek33mSSLpEwa92icb9TrMc7niguUciXuhxoFrqq7VRWzTPpS\"\n",
      "        }\n",
      "    ],\n",
      "    \"eth\": [\n",
      "        {\n",
      "            \"address\": \"0x46BbdBf56ff911A93AdaF0164d0709F78B52765E\",\n",
      "            \"index\": 0,\n",
      "            \"path\": \"m/44'/60'/0'/0/0\",\n",
      "            \"privkey\": \"0x30c2577db89760baa9ba4058b1033b9e103f287e5de1689e35833ee8e7a7c857\",\n",
      "            \"pubkey\": \"0346738f665f58fb9b8d77cc2e0e01ed5186d067724dc7c31c7af86036692510b2\",\n",
      "            \"pubkeyhash\": \"5df78dda37b4905dd8f4bc91a0f8de44aafe574b\",\n",
      "            \"xprv\": \"xprvA2zV9Z9JHyBqjv7kucT94mEqPnXi9qwerMRjVuo2DMGA1qD4T8asnVfiLV3QbjKC8PfQx7JdMonUFYEkJeiwwJFvH2JGXJysbKxGFzJRvGp\",\n",
      "            \"xpub\": \"xpub6FyqZ4gC8Lk8xQCE1dz9RuBZwpNCZJfWDaMLJJCdmgo8tdYCzfu8LHzCBnBUKP2zS3JXQT2daz6MU1kSTCMJPM83yBUoopgGKsvMZXjsMKY\"\n",
      "        },\n",
      "        {\n",
      "            \"address\": \"0x3dA0F09EF6F833b179768a63AdD29061e0702e47\",\n",
      "            \"index\": 1,\n",
      "            \"path\": \"m/44'/60'/0'/0/1\",\n",
      "            \"privkey\": \"0xe0b5fe9e0c5ae715bf7f13538e71c37942607a9874aab58bb600870fd9cadde2\",\n",
      "            \"pubkey\": \"02f96e1071b12fbe8829a26916952f5788da5a9a74336e4c6061beca3d50b87b16\",\n",
      "            \"pubkeyhash\": \"dd90e4298c451e2537610f15b1df43c080849136\",\n",
      "            \"xprv\": \"xprvA2zV9Z9JHyBqo34ms1TqXMeUnF1PeRD6CGJUnVYCHbW2nutRue8GbtDcBkwCrAU1WViVFS9zt9DQq5ZvChiAuRQdyHrHpRgvoAN2XbPsHF2\",\n",
      "            \"xpub\": \"xpub6FyqZ4gC8Lk91X9Ey2zqtVbDLGqt3svwZVE5aswoqw31fiDaTBSX9gY6329rhq23Ly6gN32bFSt7zgDc1fb3rtSDehTFV5sHRmWsCDeYiiK\"\n",
      "        },\n",
      "        {\n",
      "            \"address\": \"0x0d770cC3e3fE08C430bc708eaA082fab63435195\",\n",
      "            \"index\": 2,\n",
      "            \"path\": \"m/44'/60'/0'/0/2\",\n",
      "            \"privkey\": \"0x15e91ba1cada56fc7f16c1f6fbdda1870f02733c2afb98d234d98e501d8b7e4f\",\n",
      "            \"pubkey\": \"03e1062a77273ffb8ea4e2becd9cb44b1c34189dd4189047079f80c5834c37106b\",\n",
      "            \"pubkeyhash\": \"a646a30cb1c96dac166466962d1d938a36429a85\",\n",
      "            \"xprv\": \"xprvA2zV9Z9JHyBqqdNqZdwXKxX2zqAvfYxZaXW9RqJTdV4WVLSSkySkxPUcgGA3DoVUACc9SyDewQfEEK8AtrwKVDdQTceCktp5eioXDboX2Gx\",\n",
      "            \"xpub\": \"xpub6FyqZ4gC8Lk947TJffUXh6TmYs1R51gQwkRkEDi5BpbVN8mbJWm1WBo6Xag16sAd2Uod9ZroZLwFwfe5cAzWkKdFeb2SXyVP5jrutbQNart\"\n",
      "        }\n",
      "    ]\n",
      "}\n"
     ]
    }
   ],
   "source": [
    "print(json.dumps(keys, indent=4, sort_keys=True))"
   ]
  },
  {
   "cell_type": "code",
   "execution_count": 9,
   "metadata": {},
   "outputs": [],
   "source": [
    "# create a function that convert the privkey string in a child key to an account object.\n",
    "def priv_key_to_account(coin,priv_key):\n",
    "    print(coin)\n",
    "    print(priv_key)\n",
    "    if coin == ETH:\n",
    "        return Account.privateKeyToAccount(priv_key)\n",
    "    elif coin == BTCTEST:\n",
    "        return PrivateKeyTestnet(priv_key)\n",
    "\n"
   ]
  },
  {
   "cell_type": "code",
   "execution_count": 10,
   "metadata": {},
   "outputs": [],
   "source": [
    "def create_tx(coin,account, recipient, amount):\n",
    "    if coin == ETH: \n",
    "        gasEstimate = w3.eth.estimateGas(\n",
    "            {\"from\":eth_acc.address, \"to\":recipient, \"value\": amount}\n",
    "        )\n",
    "        return { \n",
    "            \"from\": eth_acc.address,\n",
    "            \"to\": recipient,\n",
    "            \"value\": amount,\n",
    "            \"gasPrice\": w3.eth.gasPrice,\n",
    "            \"gas\": gasEstimate,\n",
    "            \"nonce\": w3.eth.getTransactionCount(eth_acc.address)\n",
    "        }\n",
    "    \n",
    "    elif coin == BTCTEST:\n",
    "        return PrivateKeyTestnet.prepare_transaction(account.address, [(recipient, amount, BTC)])"
   ]
  },
  {
   "cell_type": "code",
   "execution_count": 11,
   "metadata": {},
   "outputs": [
    {
     "name": "stdout",
     "output_type": "stream",
     "text": [
      "eth\n",
      "0x30c2577db89760baa9ba4058b1033b9e103f287e5de1689e35833ee8e7a7c857\n"
     ]
    }
   ],
   "source": [
    "# create a function to hold Ethereum \n",
    "eth_acc = priv_key_to_account(ETH, derive_wallets(mnemonic, ETH,5)[0]['privkey'])\n"
   ]
  },
  {
   "cell_type": "code",
   "execution_count": 33,
   "metadata": {},
   "outputs": [],
   "source": [
    "# create a function to send txn\n",
    "def send_txn(coin,account,recipient, amount):\n",
    "    txn = create_tx(coin, account, recipient, amount)\n",
    "    if coin == ETH:\n",
    "        signed_txn = eth_acc.sign_transaction(txn)\n",
    "        result = w3.eth.sendRawTransaction(signed_txn.rawTransaction)\n",
    "        print(result.hex())\n",
    "        return result.hex()\n",
    "    elif coin == BTCTEST:\n",
    "        tx_btctest = create_tx(coin, account, recipient, amount)\n",
    "        signed_txn = account.sign_transaction(txn)\n",
    "        print(signed_txn)\n",
    "        return NetworkAPI.broadcast_tx_testnet(signed_txn)"
   ]
  },
  {
   "cell_type": "markdown",
   "metadata": {},
   "source": [
    "## BTC-TEST Transactions"
   ]
  },
  {
   "cell_type": "code",
   "execution_count": 15,
   "metadata": {},
   "outputs": [
    {
     "name": "stdout",
     "output_type": "stream",
     "text": [
      "btc-test\n",
      "cNYVznjLVmB5XANVr4SJ6choENNntn1t96jPQbn51rGUjTrpsnV7\n"
     ]
    }
   ],
   "source": [
    "btc_acc = priv_key_to_account(BTCTEST,btc_PrivateKey)"
   ]
  },
  {
   "cell_type": "code",
   "execution_count": 23,
   "metadata": {},
   "outputs": [
    {
     "data": {
      "text/plain": [
       "'{\"unspents\":[{\"amount\":22000,\"confirmations\":-1804582,\"script\":\"76a914edf426ec881075b8ad83bd43951d86ab79007d3988ac\",\"txid\":\"5864bb8431bdfe3b39cee9729c29f2efba5fb904e9691f38e65ecec0e6ace4ad\",\"txindex\":0,\"type\":\"p2pkh\",\"vsize\":148,\"segwit\":false},{\"amount\":49808912,\"confirmations\":-1781555,\"script\":\"76a914edf426ec881075b8ad83bd43951d86ab79007d3988ac\",\"txid\":\"62989ab0fa72c9ed0a2de95e878d94391522a036a448ad4bbeeaa2949fed2b8e\",\"txindex\":14,\"type\":\"p2pkh\",\"vsize\":148,\"segwit\":false},{\"amount\":100000,\"confirmations\":-1781480,\"script\":\"76a914edf426ec881075b8ad83bd43951d86ab79007d3988ac\",\"txid\":\"f509aa70dd53d1d1938d6c3916906e1c49183a01e199fafc07fa20bce31f57f7\",\"txindex\":0,\"type\":\"p2pkh\",\"vsize\":148,\"segwit\":false},{\"amount\":23000,\"confirmations\":-1781480,\"script\":\"76a914edf426ec881075b8ad83bd43951d86ab79007d3988ac\",\"txid\":\"d5c99494f1dabcc740edd4126430e9baa09fdd09a30400830f3906245dfd45ff\",\"txindex\":0,\"type\":\"p2pkh\",\"vsize\":148,\"segwit\":false},{\"amount\":10969,\"confirmations\":-1781479,\"script\":\"76a914edf426ec881075b8ad83bd43951d86ab79007d3988ac\",\"txid\":\"d117e459d8ce4eec6ff607fd7002790372f0a7c6288ae1ebfffbb3a1133ddff0\",\"txindex\":1,\"type\":\"p2pkh\",\"vsize\":148,\"segwit\":false}],\"outputs\":[[\"n3D8vVvLyD7pPQmWoQgMMERZrDjmBheBpU\",10000000],[\"n3D8vVvLyD7pPQmWoQgMMERZrDjmBheBpU\",39788193]]}'"
      ]
     },
     "execution_count": 23,
     "metadata": {},
     "output_type": "execute_result"
    }
   ],
   "source": [
    "# create BTC transaction\n",
    "create_tx(BTCTEST,btc_acc,\"n3D8vVvLyD7pPQmWoQgMMERZrDjmBheBpU\", 0.1)"
   ]
  },
  {
   "cell_type": "code",
   "execution_count": 34,
   "metadata": {},
   "outputs": [
    {
     "name": "stdout",
     "output_type": "stream",
     "text": [
      "0100000001ae60bde3e559656d1bc1423117931f1efdc58718f39d6ec0b76bb43fece1d883010000006a47304402205d1047e96943a4612dbc9eb1889812e42c04c2eb6b5857af560b353a0bb28c6c02202a0151e4e9bbd2ad7c0c1bd09685e55a03ab2306f66465f82285402cc9d026f6012102885d0c850aa602ad69702dd2c8e1b4d1f1f11cb869922e6c7139aa3286fdb66dffffffff0280969800000000001976a9148c5bf3cb05705fe9512d23b229c4253e82ba817988ac111f9300000000001976a914edf426ec881075b8ad83bd43951d86ab79007d3988ac00000000\n"
     ]
    }
   ],
   "source": [
    "# Send BTC transaction\n",
    "send_txn(BTCTEST,btc_acc,\"mtK73sNPY9CKuzVvpv4W1969AD1UmGGfsX\", 0.1)"
   ]
  },
  {
   "cell_type": "markdown",
   "metadata": {},
   "source": [
    "## ETH Transactions"
   ]
  },
  {
   "cell_type": "code",
   "execution_count": 37,
   "metadata": {},
   "outputs": [],
   "source": [
    "#connecting to HTTP with address pk\n",
    "w3 = Web3(Web3.HTTPProvider(\"http://127.0.0.1:8545/0x30c2577db89760baa9ba4058b1033b9e103f287e5de1689e35833ee8e7a7c857\"))"
   ]
  },
  {
   "cell_type": "code",
   "execution_count": 38,
   "metadata": {},
   "outputs": [
    {
     "data": {
      "text/plain": [
       "True"
      ]
     },
     "execution_count": 38,
     "metadata": {},
     "output_type": "execute_result"
    }
   ],
   "source": [
    "# double check if  I am connected to blockchain. \n",
    "w3.isConnected()"
   ]
  },
  {
   "cell_type": "markdown",
   "metadata": {},
   "source": [
    "## Check the Balance of the account with local mining blockchain"
   ]
  },
  {
   "cell_type": "code",
   "execution_count": 39,
   "metadata": {},
   "outputs": [
    {
     "data": {
      "text/plain": [
       "904625697166532776746648320380374280103671755200316906558261955061821325312"
      ]
     },
     "execution_count": 39,
     "metadata": {},
     "output_type": "execute_result"
    }
   ],
   "source": [
    "w3.eth.getBalance(\"0x46BbdBf56ff911A93AdaF0164d0709F78B52765E\")"
   ]
  },
  {
   "cell_type": "code",
   "execution_count": 41,
   "metadata": {},
   "outputs": [
    {
     "data": {
      "text/plain": [
       "{'from': '0x46BbdBf56ff911A93AdaF0164d0709F78B52765E',\n",
       " 'to': '0x3dA0F09EF6F833b179768a63AdD29061e0702e47',\n",
       " 'value': 1000,\n",
       " 'gasPrice': 1000000000,\n",
       " 'gas': 21000,\n",
       " 'nonce': 1}"
      ]
     },
     "execution_count": 41,
     "metadata": {},
     "output_type": "execute_result"
    }
   ],
   "source": [
    "create_tx(ETH,eth_acc,\"0x3dA0F09EF6F833b179768a63AdD29061e0702e47\", 1000)"
   ]
  },
  {
   "cell_type": "code",
   "execution_count": 42,
   "metadata": {},
   "outputs": [
    {
     "name": "stdout",
     "output_type": "stream",
     "text": [
      "0x054b2e465da06147b9b616eec3d6319f430f45d2077d8be4852f4a71f4131438\n"
     ]
    },
    {
     "data": {
      "text/plain": [
       "'0x054b2e465da06147b9b616eec3d6319f430f45d2077d8be4852f4a71f4131438'"
      ]
     },
     "execution_count": 42,
     "metadata": {},
     "output_type": "execute_result"
    }
   ],
   "source": [
    "send_txn(ETH, eth_acc,\"0x3dA0F09EF6F833b179768a63AdD29061e0702e47\", 1000)"
   ]
  },
  {
   "cell_type": "markdown",
   "metadata": {},
   "source": [
    "## Confirmation of Transaction"
   ]
  },
  {
   "cell_type": "code",
   "execution_count": 43,
   "metadata": {},
   "outputs": [
    {
     "data": {
      "text/plain": [
       "1000"
      ]
     },
     "execution_count": 43,
     "metadata": {},
     "output_type": "execute_result"
    }
   ],
   "source": [
    "w3.eth.getBalance(\"0x3dA0F09EF6F833b179768a63AdD29061e0702e47\")"
   ]
  }
 ],
 "metadata": {
  "kernelspec": {
   "display_name": "Python 3",
   "language": "python",
   "name": "python3"
  },
  "language_info": {
   "codemirror_mode": {
    "name": "ipython",
    "version": 3
   },
   "file_extension": ".py",
   "mimetype": "text/x-python",
   "name": "python",
   "nbconvert_exporter": "python",
   "pygments_lexer": "ipython3",
   "version": "3.7.7"
  }
 },
 "nbformat": 4,
 "nbformat_minor": 4
}
